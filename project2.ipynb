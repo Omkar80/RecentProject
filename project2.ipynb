{
  "nbformat": 4,
  "nbformat_minor": 0,
  "metadata": {
    "colab": {
      "provenance": [],
      "collapsed_sections": []
    },
    "kernelspec": {
      "name": "python3",
      "display_name": "Python 3"
    },
    "language_info": {
      "name": "python"
    },
    "accelerator": "GPU",
    "gpuClass": "standard"
  },
  "cells": [
    {
      "cell_type": "code",
      "execution_count": null,
      "metadata": {
        "id": "uzvykbExf6xM",
        "colab": {
          "base_uri": "https://localhost:8080/"
        },
        "outputId": "b1606583-a951-4cb0-b048-d83d1af35332"
      },
      "outputs": [
        {
          "output_type": "stream",
          "name": "stdout",
          "text": [
            "Looking in indexes: https://pypi.org/simple, https://us-python.pkg.dev/colab-wheels/public/simple/\n",
            "Requirement already satisfied: mat4py in /usr/local/lib/python3.7/dist-packages (0.5.0)\n"
          ]
        }
      ],
      "source": [
        "!pip install mat4py\n",
        "import pandas as pd\n",
        "import os\n",
        "from mat4py import loadmat\n",
        "import numpy as np\n",
        "import matplotlib.pyplot as plt\n",
        "import sys\n",
        "from sklearn.metrics import mean_squared_error, mean_absolute_error"
      ]
    },
    {
      "cell_type": "code",
      "source": [
        "def BT19ECE036_dataset_div_shuffle(filepath, train_test_ratio=0.2):\n",
        "  ext = os.path.splitext(filepath)[1]\n",
        "  # import the data\n",
        "  if ext==\".csv\":\n",
        "    data = pd.read_csv(filepath)\n",
        "  elif ext==\".xlsx\":\n",
        "    data = pd.read_excel(filepath)\n",
        "  elif ext==\".mat\":\n",
        "    load_data = loadmat(filepath) \n",
        "    datamat = load_data[\"accidents\"]\n",
        "    data = pd.DataFrame(datamat[\"hwydata\"],columns=datamat[\"hwyheaders\"])\n",
        "    states = [x[0] for x in datamat[\"statelabel\"]]\n",
        "    data.insert(loc = 1, column = \"State\", value=states)\n",
        "  else:\n",
        "    print(\"File not found\")\n",
        "    return None\n",
        "  train_frac = 1 - train_test_ratio\n",
        "  test_frac = train_test_ratio\n",
        "  train = data.sample(frac = train_frac)\n",
        "  test = data.sample(frac = test_frac)\n",
        "  return train, test"
      ],
      "metadata": {
        "id": "wGNMR-EZAwli"
      },
      "execution_count": null,
      "outputs": []
    },
    {
      "cell_type": "code",
      "source": [
        "train, test = BT19ECE120_dataset_div_shuffle(\"/content/drive/MyDrive/Drive/Study/VNIT/Year4/Sem7/Machine Learning/Lab/Exp2/Matlab_accidents.mat\")\n",
        "train.head()"
      ],
      "metadata": {
        "id": "xEPltDNhAylf",
        "colab": {
          "base_uri": "https://localhost:8080/",
          "height": 354
        },
        "outputId": "d6180361-5b5b-437e-9914-c29fc21fde9e"
      },
      "execution_count": null,
      "outputs": [
        {
          "output_type": "execute_result",
          "data": {
            "text/plain": [
              "    Census ID          State  Centroid Longitude  Centroid Latitude  \\\n",
              "39       51.0       Virginia          -78.949416          37.546013   \n",
              "10       33.0  New Hampshire          -71.559103          43.907990   \n",
              "37       18.0        Indiana          -86.577065          39.448159   \n",
              "21       19.0           Iowa          -93.762335          42.132789   \n",
              "14       54.0  West Virginia          -80.274868          38.850586   \n",
              "\n",
              "    Traffic fatalities  Licensed drivers (thousands)  \\\n",
              "39               925.0                      5112.523   \n",
              "10               171.0                       985.775   \n",
              "37               947.0                      4521.329   \n",
              "21               390.0                      2003.723   \n",
              "14               411.0                      1292.036   \n",
              "\n",
              "    Registered vehicles (thousands)  Vehicle-miles traveled (millions)  \\\n",
              "39                         6572.883                            78877.0   \n",
              "10                         1244.631                            13216.0   \n",
              "37                         5678.318                            72713.0   \n",
              "21                         3509.431                            31538.0   \n",
              "14                         1415.954                            20302.0   \n",
              "\n",
              "    Miles traveled per vehicle  Fatalities per 100K licensed drivers  \\\n",
              "39                12000.365745                             18.092828   \n",
              "10                10618.408187                             17.346758   \n",
              "37                12805.376522                             20.945169   \n",
              "21                 8986.641994                             19.463768   \n",
              "14                14338.036405                             31.810259   \n",
              "\n",
              "    Fatalities per 100K registered vehicles  \\\n",
              "39                                14.072972   \n",
              "10                                13.739012   \n",
              "37                                16.677474   \n",
              "21                                11.112913   \n",
              "14                                29.026367   \n",
              "\n",
              "    Fatalities per 100M vehicle-miles traveled  \\\n",
              "39                                    1.172712   \n",
              "10                                    1.293886   \n",
              "37                                    1.302381   \n",
              "21                                    1.236603   \n",
              "14                                    2.024431   \n",
              "\n",
              "    Fatalities involving high blood alcohol  Percent Alcohol-Related  \\\n",
              "39                                    307.0                33.189189   \n",
              "10                                     51.0                29.824561   \n",
              "37                                    254.0                26.821542   \n",
              "21                                     91.0                23.333333   \n",
              "14                                    114.0                27.737226   \n",
              "\n",
              "    Total Population  Urban Population  Rural Population  Pct Urban Population  \n",
              "39         7078515.0         5166427.0         1912088.0             72.987442  \n",
              "10         1235786.0          731352.0          504434.0             59.181120  \n",
              "37         6080485.0         4303180.0         1777305.0             70.770342  \n",
              "21         2926324.0         1786683.0         1139641.0             61.055543  \n",
              "14         1808344.0          833378.0          974966.0             46.085148  "
            ],
            "text/html": [
              "\n",
              "  <div id=\"df-2695a538-d1d3-41f9-a4df-c062fc5f9357\">\n",
              "    <div class=\"colab-df-container\">\n",
              "      <div>\n",
              "<style scoped>\n",
              "    .dataframe tbody tr th:only-of-type {\n",
              "        vertical-align: middle;\n",
              "    }\n",
              "\n",
              "    .dataframe tbody tr th {\n",
              "        vertical-align: top;\n",
              "    }\n",
              "\n",
              "    .dataframe thead th {\n",
              "        text-align: right;\n",
              "    }\n",
              "</style>\n",
              "<table border=\"1\" class=\"dataframe\">\n",
              "  <thead>\n",
              "    <tr style=\"text-align: right;\">\n",
              "      <th></th>\n",
              "      <th>Census ID</th>\n",
              "      <th>State</th>\n",
              "      <th>Centroid Longitude</th>\n",
              "      <th>Centroid Latitude</th>\n",
              "      <th>Traffic fatalities</th>\n",
              "      <th>Licensed drivers (thousands)</th>\n",
              "      <th>Registered vehicles (thousands)</th>\n",
              "      <th>Vehicle-miles traveled (millions)</th>\n",
              "      <th>Miles traveled per vehicle</th>\n",
              "      <th>Fatalities per 100K licensed drivers</th>\n",
              "      <th>Fatalities per 100K registered vehicles</th>\n",
              "      <th>Fatalities per 100M vehicle-miles traveled</th>\n",
              "      <th>Fatalities involving high blood alcohol</th>\n",
              "      <th>Percent Alcohol-Related</th>\n",
              "      <th>Total Population</th>\n",
              "      <th>Urban Population</th>\n",
              "      <th>Rural Population</th>\n",
              "      <th>Pct Urban Population</th>\n",
              "    </tr>\n",
              "  </thead>\n",
              "  <tbody>\n",
              "    <tr>\n",
              "      <th>39</th>\n",
              "      <td>51.0</td>\n",
              "      <td>Virginia</td>\n",
              "      <td>-78.949416</td>\n",
              "      <td>37.546013</td>\n",
              "      <td>925.0</td>\n",
              "      <td>5112.523</td>\n",
              "      <td>6572.883</td>\n",
              "      <td>78877.0</td>\n",
              "      <td>12000.365745</td>\n",
              "      <td>18.092828</td>\n",
              "      <td>14.072972</td>\n",
              "      <td>1.172712</td>\n",
              "      <td>307.0</td>\n",
              "      <td>33.189189</td>\n",
              "      <td>7078515.0</td>\n",
              "      <td>5166427.0</td>\n",
              "      <td>1912088.0</td>\n",
              "      <td>72.987442</td>\n",
              "    </tr>\n",
              "    <tr>\n",
              "      <th>10</th>\n",
              "      <td>33.0</td>\n",
              "      <td>New Hampshire</td>\n",
              "      <td>-71.559103</td>\n",
              "      <td>43.907990</td>\n",
              "      <td>171.0</td>\n",
              "      <td>985.775</td>\n",
              "      <td>1244.631</td>\n",
              "      <td>13216.0</td>\n",
              "      <td>10618.408187</td>\n",
              "      <td>17.346758</td>\n",
              "      <td>13.739012</td>\n",
              "      <td>1.293886</td>\n",
              "      <td>51.0</td>\n",
              "      <td>29.824561</td>\n",
              "      <td>1235786.0</td>\n",
              "      <td>731352.0</td>\n",
              "      <td>504434.0</td>\n",
              "      <td>59.181120</td>\n",
              "    </tr>\n",
              "    <tr>\n",
              "      <th>37</th>\n",
              "      <td>18.0</td>\n",
              "      <td>Indiana</td>\n",
              "      <td>-86.577065</td>\n",
              "      <td>39.448159</td>\n",
              "      <td>947.0</td>\n",
              "      <td>4521.329</td>\n",
              "      <td>5678.318</td>\n",
              "      <td>72713.0</td>\n",
              "      <td>12805.376522</td>\n",
              "      <td>20.945169</td>\n",
              "      <td>16.677474</td>\n",
              "      <td>1.302381</td>\n",
              "      <td>254.0</td>\n",
              "      <td>26.821542</td>\n",
              "      <td>6080485.0</td>\n",
              "      <td>4303180.0</td>\n",
              "      <td>1777305.0</td>\n",
              "      <td>70.770342</td>\n",
              "    </tr>\n",
              "    <tr>\n",
              "      <th>21</th>\n",
              "      <td>19.0</td>\n",
              "      <td>Iowa</td>\n",
              "      <td>-93.762335</td>\n",
              "      <td>42.132789</td>\n",
              "      <td>390.0</td>\n",
              "      <td>2003.723</td>\n",
              "      <td>3509.431</td>\n",
              "      <td>31538.0</td>\n",
              "      <td>8986.641994</td>\n",
              "      <td>19.463768</td>\n",
              "      <td>11.112913</td>\n",
              "      <td>1.236603</td>\n",
              "      <td>91.0</td>\n",
              "      <td>23.333333</td>\n",
              "      <td>2926324.0</td>\n",
              "      <td>1786683.0</td>\n",
              "      <td>1139641.0</td>\n",
              "      <td>61.055543</td>\n",
              "    </tr>\n",
              "    <tr>\n",
              "      <th>14</th>\n",
              "      <td>54.0</td>\n",
              "      <td>West Virginia</td>\n",
              "      <td>-80.274868</td>\n",
              "      <td>38.850586</td>\n",
              "      <td>411.0</td>\n",
              "      <td>1292.036</td>\n",
              "      <td>1415.954</td>\n",
              "      <td>20302.0</td>\n",
              "      <td>14338.036405</td>\n",
              "      <td>31.810259</td>\n",
              "      <td>29.026367</td>\n",
              "      <td>2.024431</td>\n",
              "      <td>114.0</td>\n",
              "      <td>27.737226</td>\n",
              "      <td>1808344.0</td>\n",
              "      <td>833378.0</td>\n",
              "      <td>974966.0</td>\n",
              "      <td>46.085148</td>\n",
              "    </tr>\n",
              "  </tbody>\n",
              "</table>\n",
              "</div>\n",
              "      <button class=\"colab-df-convert\" onclick=\"convertToInteractive('df-2695a538-d1d3-41f9-a4df-c062fc5f9357')\"\n",
              "              title=\"Convert this dataframe to an interactive table.\"\n",
              "              style=\"display:none;\">\n",
              "        \n",
              "  <svg xmlns=\"http://www.w3.org/2000/svg\" height=\"24px\"viewBox=\"0 0 24 24\"\n",
              "       width=\"24px\">\n",
              "    <path d=\"M0 0h24v24H0V0z\" fill=\"none\"/>\n",
              "    <path d=\"M18.56 5.44l.94 2.06.94-2.06 2.06-.94-2.06-.94-.94-2.06-.94 2.06-2.06.94zm-11 1L8.5 8.5l.94-2.06 2.06-.94-2.06-.94L8.5 2.5l-.94 2.06-2.06.94zm10 10l.94 2.06.94-2.06 2.06-.94-2.06-.94-.94-2.06-.94 2.06-2.06.94z\"/><path d=\"M17.41 7.96l-1.37-1.37c-.4-.4-.92-.59-1.43-.59-.52 0-1.04.2-1.43.59L10.3 9.45l-7.72 7.72c-.78.78-.78 2.05 0 2.83L4 21.41c.39.39.9.59 1.41.59.51 0 1.02-.2 1.41-.59l7.78-7.78 2.81-2.81c.8-.78.8-2.07 0-2.86zM5.41 20L4 18.59l7.72-7.72 1.47 1.35L5.41 20z\"/>\n",
              "  </svg>\n",
              "      </button>\n",
              "      \n",
              "  <style>\n",
              "    .colab-df-container {\n",
              "      display:flex;\n",
              "      flex-wrap:wrap;\n",
              "      gap: 12px;\n",
              "    }\n",
              "\n",
              "    .colab-df-convert {\n",
              "      background-color: #E8F0FE;\n",
              "      border: none;\n",
              "      border-radius: 50%;\n",
              "      cursor: pointer;\n",
              "      display: none;\n",
              "      fill: #1967D2;\n",
              "      height: 32px;\n",
              "      padding: 0 0 0 0;\n",
              "      width: 32px;\n",
              "    }\n",
              "\n",
              "    .colab-df-convert:hover {\n",
              "      background-color: #E2EBFA;\n",
              "      box-shadow: 0px 1px 2px rgba(60, 64, 67, 0.3), 0px 1px 3px 1px rgba(60, 64, 67, 0.15);\n",
              "      fill: #174EA6;\n",
              "    }\n",
              "\n",
              "    [theme=dark] .colab-df-convert {\n",
              "      background-color: #3B4455;\n",
              "      fill: #D2E3FC;\n",
              "    }\n",
              "\n",
              "    [theme=dark] .colab-df-convert:hover {\n",
              "      background-color: #434B5C;\n",
              "      box-shadow: 0px 1px 3px 1px rgba(0, 0, 0, 0.15);\n",
              "      filter: drop-shadow(0px 1px 2px rgba(0, 0, 0, 0.3));\n",
              "      fill: #FFFFFF;\n",
              "    }\n",
              "  </style>\n",
              "\n",
              "      <script>\n",
              "        const buttonEl =\n",
              "          document.querySelector('#df-2695a538-d1d3-41f9-a4df-c062fc5f9357 button.colab-df-convert');\n",
              "        buttonEl.style.display =\n",
              "          google.colab.kernel.accessAllowed ? 'block' : 'none';\n",
              "\n",
              "        async function convertToInteractive(key) {\n",
              "          const element = document.querySelector('#df-2695a538-d1d3-41f9-a4df-c062fc5f9357');\n",
              "          const dataTable =\n",
              "            await google.colab.kernel.invokeFunction('convertToInteractive',\n",
              "                                                     [key], {});\n",
              "          if (!dataTable) return;\n",
              "\n",
              "          const docLinkHtml = 'Like what you see? Visit the ' +\n",
              "            '<a target=\"_blank\" href=https://colab.research.google.com/notebooks/data_table.ipynb>data table notebook</a>'\n",
              "            + ' to learn more about interactive tables.';\n",
              "          element.innerHTML = '';\n",
              "          dataTable['output_type'] = 'display_data';\n",
              "          await google.colab.output.renderOutput(dataTable, element);\n",
              "          const docLink = document.createElement('div');\n",
              "          docLink.innerHTML = docLinkHtml;\n",
              "          element.appendChild(docLink);\n",
              "        }\n",
              "      </script>\n",
              "    </div>\n",
              "  </div>\n",
              "  "
            ]
          },
          "metadata": {},
          "execution_count": 75
        }
      ]
    },
    {
      "cell_type": "code",
      "source": [
        "trainX = train[['Licensed drivers (thousands)','Registered vehicles (thousands)','Vehicle-miles traveled (millions)']]\n",
        "trainy = np.array(train['Traffic fatalities'])\n",
        "testX = test[['Licensed drivers (thousands)','Registered vehicles (thousands)','Vehicle-miles traveled (millions)']]\n",
        "testy = np.array(test['Traffic fatalities'])"
      ],
      "metadata": {
        "id": "weKDCyelQhou"
      },
      "execution_count": null,
      "outputs": []
    },
    {
      "cell_type": "code",
      "source": [
        "for column in trainX:\n",
        "  trainX[column] = trainX[column]/np.amax(trainX[column])\n",
        "for column in testX:\n",
        "  testX[column] = testX[column]/np.amax(testX[column])\n",
        "trainX = np.array(trainX)\n",
        "testX = np.array(testX)"
      ],
      "metadata": {
        "colab": {
          "base_uri": "https://localhost:8080/"
        },
        "id": "18Bc8HbFpYQD",
        "outputId": "8648949e-79e1-4a4a-8b94-d81e7fd78fd7"
      },
      "execution_count": null,
      "outputs": [
        {
          "output_type": "stream",
          "name": "stderr",
          "text": [
            "/usr/local/lib/python3.7/dist-packages/ipykernel_launcher.py:2: SettingWithCopyWarning: \n",
            "A value is trying to be set on a copy of a slice from a DataFrame.\n",
            "Try using .loc[row_indexer,col_indexer] = value instead\n",
            "\n",
            "See the caveats in the documentation: https://pandas.pydata.org/pandas-docs/stable/user_guide/indexing.html#returning-a-view-versus-a-copy\n",
            "  \n",
            "/usr/local/lib/python3.7/dist-packages/ipykernel_launcher.py:4: SettingWithCopyWarning: \n",
            "A value is trying to be set on a copy of a slice from a DataFrame.\n",
            "Try using .loc[row_indexer,col_indexer] = value instead\n",
            "\n",
            "See the caveats in the documentation: https://pandas.pydata.org/pandas-docs/stable/user_guide/indexing.html#returning-a-view-versus-a-copy\n",
            "  after removing the cwd from sys.path.\n"
          ]
        }
      ]
    },
    {
      "cell_type": "code",
      "source": [
        "def linreg_pseudoinv(trainX, trainy, testX, testy):\n",
        "  train_ones = np.ones([trainX.shape[0],1])\n",
        "  theta_train = np.hstack((train_ones,trainX))\n",
        "  weight_opt = np.matmul(np.linalg.pinv(theta_train),trainy)\n",
        "  test_ones = np.ones([testX.shape[0],1])\n",
        "  theta_test = np.hstack((test_ones,testX))\n",
        "  y_pred = np.matmul(theta_test,weight_opt)\n",
        "  plt.plot(testy)\n",
        "  plt.plot(y_pred)\n",
        "  print(\"Mean Squared Error: \",mean_squared_error(testy, y_pred))\n",
        "  print(\"Root Mean Squared Error: \",mean_squared_error(testy, y_pred, squared = False))\n",
        "  print(\"Mean Absolute Error: \",mean_absolute_error(testy, y_pred))"
      ],
      "metadata": {
        "id": "c-5oC_Fkr55E"
      },
      "execution_count": null,
      "outputs": []
    },
    {
      "cell_type": "code",
      "source": [
        "linreg_pseudoinv(trainX, trainy, testX, testy)"
      ],
      "metadata": {
        "colab": {
          "base_uri": "https://localhost:8080/",
          "height": 317
        },
        "id": "0IS0lmsNs46c",
        "outputId": "e3e7c1be-95d4-4d4f-bd6c-0aa2cc2b80a3"
      },
      "execution_count": null,
      "outputs": [
        {
          "output_type": "stream",
          "name": "stdout",
          "text": [
            "Mean Squared Error:  276463.64506550005\n",
            "Root Mean Squared Error:  525.7981029496968\n",
            "Mean Absolute Error:  432.73731367850405\n"
          ]
        },
        {
          "output_type": "display_data",
          "data": {
            "text/plain": [
              "<Figure size 432x288 with 1 Axes>"
            ],
            "image/png": "[encoded data removed]"
          },
          "metadata": {
            "needs_background": "light"
          }
        }
      ]
    },
    {
      "cell_type": "code",
      "source": [
        "def gradient_descent(trainX, trainy, testX, testy, iterations=1000, learning_rate=0.01):\n",
        "  X = np.concatenate((trainX, testX), axis=0)\n",
        "  y = np.concatenate((trainy, testy))\n",
        "  theta = np.random.randn(len(X[0]), 1)\n",
        "\n",
        "  y_new = np.reshape(y, (len(y), 1))   \n",
        "  cost_lst = []\n",
        "  #vectorX = np.c_[np.ones((len(X), 1)), X]\n",
        "  m = len(X)\n",
        "  for i in range(iterations):\n",
        "      gradients = 2/m * X.T.dot(X.dot(theta) - y_new)\n",
        "      theta = theta - learning_rate * gradients\n",
        "      y_pred = X.dot(theta)\n",
        "      cost_value = 1/(2*len(y))*((y_pred - y)**2) \n",
        "      #Calculate the loss for each training instance\n",
        "      total = 0\n",
        "      for i in range(len(y)):\n",
        "          total += cost_value[i][0] \n",
        "          #Calculate the cost function for each iteration\n",
        "      cost_lst.append(total)\n",
        "  plt.plot(np.arange(1,iterations),cost_lst[1:], color = 'red')\n",
        "  plt.title('Cost function Graph')\n",
        "  plt.xlabel('Number of iterations')\n",
        "  plt.ylabel('Cost')\n",
        "  return theta"
      ],
      "metadata": {
        "id": "wzFlgYehs8_r"
      },
      "execution_count": null,
      "outputs": []
    },
    {
      "cell_type": "code",
      "source": [
        "gradient_descent(trainX, trainy, testX, testy)"
      ],
      "metadata": {
        "colab": {
          "base_uri": "https://localhost:8080/",
          "height": 347
        },
        "id": "O15VJ5R00hVN",
        "outputId": "46798e42-4a67-4154-cc9f-30d3cfd6484e"
      },
      "execution_count": null,
      "outputs": [
        {
          "output_type": "execute_result",
          "data": {
            "text/plain": [
              "array([[1275.28102036],\n",
              "       [1110.17877318],\n",
              "       [1411.38276165]])"
            ]
          },
          "metadata": {},
          "execution_count": 103
        },
        {
          "output_type": "display_data",
          "data": {
            "text/plain": [
              "<Figure size 432x288 with 1 Axes>"
            ],
            "image/png": "[encoded data removed]"
          },
          "metadata": {
            "needs_background": "light"
          }
        }
      ]
    },
    {
      "cell_type": "code",
      "source": [],
      "metadata": {
        "id": "fspBj21U0qAj"
      },
      "execution_count": null,
      "outputs": []
    }
  ]
}