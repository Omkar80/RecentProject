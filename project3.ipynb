{
  "nbformat": 4,
  "nbformat_minor": 0,
  "metadata": {
    "colab": {
      "provenance": [],
      "collapsed_sections": []
    },
    "kernelspec": {
      "name": "python3",
      "display_name": "Python 3"
    },
    "language_info": {
      "name": "python"
    },
    "accelerator": "GPU"
  },
  "cells": [
    {
      "cell_type": "code",
      "execution_count": null,
      "metadata": {
        "id": "jOTCK2o1dTSi",
        "colab": {
          "base_uri": "https://localhost:8080/"
        },
        "outputId": "7ec6594f-91fe-4256-fcbe-8c67ff24bba1"
      },
      "outputs": [
        {
          "output_type": "stream",
          "name": "stdout",
          "text": [
            "Using cuda device\n"
          ]
        }
      ],
      "source": [
        "import numpy as np\n",
        "import matplotlib.pyplot as plt\n",
        "import pandas as pd\n",
        "import scipy.io\n",
        "from sklearn.model_selection import train_test_split\n",
        "from scipy.io import loadmat\n",
        "import matplotlib.pyplot as plt\n",
        "import random\n",
        "import math\n",
        "import torch\n",
        "import tensorflow as tf\n",
        "from torch import nn\n",
        "from torch.utils.data import DataLoader\n",
        "from torchvision import datasets, transforms\n",
        "from tqdm import tqdm\n",
        "from torch import optim \n",
        "from sklearn.metrics import accuracy_score ,  confusion_matrix , ConfusionMatrixDisplay\n",
        "\n",
        "data= loadmat('/content/Matlab_cancer.mat')\n",
        "device = \"cuda\" if torch.cuda.is_available() else \"cpu\"\n",
        "print(f\"Using {device} device\")"
      ]
    },
    {
      "cell_type": "code",
      "source": [
        "data_x = data['x']\n",
        "data_y = data['t']\n",
        "data_x = np.transpose(data_x)\n",
        "np.transpose(data_y)\n",
        "data_y  = data_y[0]\n",
        "# print(data_x.shape)\n",
        "# print(data_y.shape)\n",
        "\n",
        "train_x , test_x ,train_y , test_y= train_test_split(data_x,data_y,train_size = 0.8,shuffle=True,random_state=0)\n",
        "train_x , val_x ,train_y , val_y= train_test_split(train_x,train_y,train_size = 0.8,shuffle=True,random_state=0)\n",
        "# train_x = tf.convert_to_tensor(train_x)\n",
        "print(train_x.shape,test_x.shape,val_x.shape)\n",
        "print(train_y.shape,test_y.shape,val_y.shape)"
      ],
      "metadata": {
        "colab": {
          "base_uri": "https://localhost:8080/"
        },
        "id": "HtXIMFgJvdHK",
        "outputId": "9a47815a-1a1a-45e6-e072-621355f5e2c0"
      },
      "execution_count": null,
      "outputs": [
        {
          "output_type": "stream",
          "name": "stdout",
          "text": [
            "(137, 100) (44, 100) (35, 100)\n",
            "(137,) (44,) (35,)\n"
          ]
        }
      ]
    },
    {
      "cell_type": "code",
      "source": [
        "class NeuralNetwork(nn.Module):\n",
        "    def __init__(self):\n",
        "        super(NeuralNetwork, self).__init__()\n",
        "        # self.flatten = nn.Flatten(start_dim=1, end_dim=99)\n",
        "        self.linear_relu_stack = nn.Sequential(\n",
        "            nn.Linear(100, 512),\n",
        "            nn.ReLU(),\n",
        "            nn.Linear(512, 512),\n",
        "            nn.ReLU(),\n",
        "            nn.Linear(512, 1),\n",
        "        )\n",
        "\n",
        "    def forward(self, x):\n",
        "        # x = self.flatten(x)\n",
        "        logits = self.linear_relu_stack(x)\n",
        "        logits = torch.sigmoid(logits)\n",
        "        return logits"
      ],
      "metadata": {
        "id": "UTwQWFNowZQc"
      },
      "execution_count": null,
      "outputs": []
    },
    {
      "cell_type": "code",
      "source": [
        "train_x = torch.from_numpy(train_x.astype(np.float32))\n",
        "test_x = torch.from_numpy(test_x.astype(np.float32))\n",
        "train_y = torch.from_numpy(train_y.astype(np.float32))\n",
        "test_y = torch.from_numpy(test_y.astype(np.float32))\n",
        "\n",
        "train_y = train_y.view(train_y.shape[0], 1)\n",
        "test_y = test_y.view(test_y.shape[0], 1)"
      ],
      "metadata": {
        "id": "TWTPLWxUJKhd"
      },
      "execution_count": null,
      "outputs": []
    },
    {
      "cell_type": "code",
      "source": [
        "print(train_x.shape,test_x.shape,val_x.shape)\n",
        "print(train_y.shape,test_y.shape,val_y.shape)"
      ],
      "metadata": {
        "colab": {
          "base_uri": "https://localhost:8080/"
        },
        "id": "v1YFAWnPLyrF",
        "outputId": "0ff622b5-94b8-4477-f77f-b89db5535c8c"
      },
      "execution_count": null,
      "outputs": [
        {
          "output_type": "stream",
          "name": "stdout",
          "text": [
            "torch.Size([137, 100]) torch.Size([44, 100]) (35, 100)\n",
            "torch.Size([137, 1]) torch.Size([44, 1]) (35,)\n"
          ]
        }
      ]
    },
    {
      "cell_type": "code",
      "source": [
        "train_dataloader = DataLoader(train_x, batch_size=4, shuffle=True)\n",
        "test_dataloader = DataLoader(test_x, batch_size=4, shuffle=True)"
      ],
      "metadata": {
        "id": "hXr95wF1ErFC"
      },
      "execution_count": null,
      "outputs": []
    },
    {
      "cell_type": "code",
      "source": [
        "model = NeuralNetwork()\n",
        "num_epochs = 20\n",
        "criterion = nn.BCELoss()\n",
        "learning_rate = 0.001\n",
        "optimizer = optim.Adam(model.parameters(), lr=learning_rate)\n",
        "# optimizer = torch.optim.SGD(model.parameters(), lr=learning_rate)"
      ],
      "metadata": {
        "id": "TLNndPEWF-U8"
      },
      "execution_count": null,
      "outputs": []
    },
    {
      "cell_type": "code",
      "source": [
        "train_accuracy= []\n",
        "for epoch in range(num_epochs):\n",
        "    # Forward pass and loss\n",
        "    y_pred = model(train_x)\n",
        "    loss = criterion(y_pred, train_y)\n",
        "    y_predicted_cls = y_pred.round()\n",
        "    acc = y_predicted_cls.eq(train_y).sum() / float(train_y.shape[0])\n",
        "    \n",
        "    train_accuracy.append(acc)\n",
        "    # Backward pass and update\n",
        "    loss.backward()\n",
        "    optimizer.step()\n",
        "\n",
        "    # zero grad before new step\n",
        "    optimizer.zero_grad()\n",
        "\n",
        "    print(f'epoch: {epoch+1}, loss = {loss.item():.4f}, accuracy = {acc}')"
      ],
      "metadata": {
        "colab": {
          "base_uri": "https://localhost:8080/"
        },
        "id": "INPHhbiiF9Z1",
        "outputId": "bb8bea74-f8b6-4b2a-cc39-7a1a063a3b6d"
      },
      "execution_count": null,
      "outputs": [
        {
          "output_type": "stream",
          "name": "stdout",
          "text": [
            "epoch: 1, loss = 0.7008, accuracy = 0.55474454164505\n",
            "epoch: 2, loss = 0.5879, accuracy = 0.7883211970329285\n",
            "epoch: 3, loss = 0.5122, accuracy = 0.8175182342529297\n",
            "epoch: 4, loss = 0.4481, accuracy = 0.8394160866737366\n",
            "epoch: 5, loss = 0.3967, accuracy = 0.8686131238937378\n",
            "epoch: 6, loss = 0.3558, accuracy = 0.8832116723060608\n",
            "epoch: 7, loss = 0.3260, accuracy = 0.8832116723060608\n",
            "epoch: 8, loss = 0.3065, accuracy = 0.8832116723060608\n",
            "epoch: 9, loss = 0.2937, accuracy = 0.8686131238937378\n",
            "epoch: 10, loss = 0.2868, accuracy = 0.8540145754814148\n",
            "epoch: 11, loss = 0.2817, accuracy = 0.8686131238937378\n",
            "epoch: 12, loss = 0.2786, accuracy = 0.8686131238937378\n",
            "epoch: 13, loss = 0.2750, accuracy = 0.8759124279022217\n",
            "epoch: 14, loss = 0.2709, accuracy = 0.8759124279022217\n",
            "epoch: 15, loss = 0.2657, accuracy = 0.8832116723060608\n",
            "epoch: 16, loss = 0.2593, accuracy = 0.8832116723060608\n",
            "epoch: 17, loss = 0.2525, accuracy = 0.8905109763145447\n",
            "epoch: 18, loss = 0.2446, accuracy = 0.9051094651222229\n",
            "epoch: 19, loss = 0.2367, accuracy = 0.9197080135345459\n",
            "epoch: 20, loss = 0.2282, accuracy = 0.9124087691307068\n"
          ]
        }
      ]
    },
    {
      "cell_type": "code",
      "source": [
        "with torch.no_grad():\n",
        "    y_predicted = model(test_x)\n",
        "    y_predicted_cls = y_predicted.round()\n",
        "    acc = y_predicted_cls.eq(test_y).sum() / float(test_y.shape[0])\n",
        "    print(f'accuracy: {acc.item():.4f}')"
      ],
      "metadata": {
        "colab": {
          "base_uri": "https://localhost:8080/"
        },
        "id": "RjC69mXE-5lj",
        "outputId": "00aa02be-8aa6-4947-b638-9a4b885ad5b3"
      },
      "execution_count": null,
      "outputs": [
        {
          "output_type": "stream",
          "name": "stdout",
          "text": [
            "accuracy: 0.9091\n"
          ]
        }
      ]
    },
    {
      "cell_type": "code",
      "source": [
        "cm = confusion_matrix(test_y, y_predicted.round())\n",
        "disp_rbf = ConfusionMatrixDisplay(cm)\n",
        "disp_rbf.plot()\n",
        "plt.show()"
      ],
      "metadata": {
        "colab": {
          "base_uri": "https://localhost:8080/",
          "height": 283
        },
        "id": "YNv-qgUd67QG",
        "outputId": "5d72578c-d207-4290-ce7a-dd858b866682"
      },
      "execution_count": null,
      "outputs": [
        {
          "output_type": "display_data",
          "data": {
            "text/plain": [
              "<Figure size 432x288 with 2 Axes>"
            ],
            "image/png": "[encoded data removed]"
          },
          "metadata": {
            "needs_background": "light"
          }
        }
      ]
    },
    {
      "cell_type": "code",
      "source": [
        "plt.plot(train_accuracy)"
      ],
      "metadata": {
        "colab": {
          "base_uri": "https://localhost:8080/",
          "height": 282
        },
        "id": "5YKxdT4aUBmj",
        "outputId": "34c94afe-7d7c-4c5a-e8ea-25ebf79789b6"
      },
      "execution_count": null,
      "outputs": [
        {
          "output_type": "execute_result",
          "data": {
            "text/plain": [
              "[<matplotlib.lines.Line2D at 0x7fb8852f7b90>]"
            ]
          },
          "metadata": {},
          "execution_count": 11
        },
        {
          "output_type": "display_data",
          "data": {
            "text/plain": [
              "<Figure size 432x288 with 1 Axes>"
            ],
            "image/png": "[encoded data removed]"
          },
          "metadata": {
            "needs_background": "light"
          }
        }
      ]
    },
    {
      "cell_type": "code",
      "source": [],
      "metadata": {
        "id": "0QtDsUi3U1E_"
      },
      "execution_count": null,
      "outputs": []
    }
  ]
}