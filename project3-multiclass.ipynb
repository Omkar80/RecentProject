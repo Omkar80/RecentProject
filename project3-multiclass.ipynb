{
  "nbformat": 4,
  "nbformat_minor": 0,
  "metadata": {
    "colab": {
      "provenance": [],
      "collapsed_sections": []
    },
    "kernelspec": {
      "name": "python3",
      "display_name": "Python 3"
    },
    "language_info": {
      "name": "python"
    }
  },
  "cells": [
    {
      "cell_type": "code",
      "execution_count": null,
      "metadata": {
        "id": "lT8VRGeJowIR"
      },
      "outputs": [],
      "source": [
        "import numpy as np\n",
        "import matplotlib.pyplot as plt\n",
        "import pandas as pd\n",
        "import scipy.io\n",
        "from sklearn.model_selection import train_test_split\n",
        "from scipy.io import loadmat\n",
        "import matplotlib.pyplot as plt\n",
        "import random\n",
        "import math\n",
        "import torch\n",
        "import tensorflow as tf\n",
        "from torch import nn\n",
        "from torch.utils.data import DataLoader\n",
        "from torchvision import datasets, transforms\n",
        "from tqdm import tqdm\n",
        "from torch import optim \n",
        "from sklearn.metrics import accuracy_score ,  confusion_matrix , ConfusionMatrixDisplay , roc_auc_score\n",
        "from tensorflow.keras.models import Sequential\n",
        "from tensorflow.keras.layers import Dense, Dropout\n",
        "from tensorflow.keras.callbacks import EarlyStopping\n",
        "from tensorflow.keras.utils import to_categorical\n",
        "\n",
        "data_x = loadmat('/content/Thyroid_feature_space.mat')\n",
        "data_y = loadmat('/content/Thyroid_labels.mat')"
      ]
    },
    {
      "cell_type": "code",
      "source": [
        "data_x = data_x['Thyroid_combined_feature_space']\n",
        "data_y = data_y['Thyroid_target']\n",
        "np.unique(data_y)"
      ],
      "metadata": {
        "colab": {
          "base_uri": "https://localhost:8080/"
        },
        "id": "obRGIFXspzog",
        "outputId": "5f17d3ae-dbed-4708-c150-fc332a38bb40"
      },
      "execution_count": null,
      "outputs": [
        {
          "output_type": "execute_result",
          "data": {
            "text/plain": [
              "array([1, 2, 3], dtype=uint8)"
            ]
          },
          "metadata": {},
          "execution_count": 222
        }
      ]
    },
    {
      "cell_type": "code",
      "source": [
        "print(data_x.shape,data_y.shape)"
      ],
      "metadata": {
        "colab": {
          "base_uri": "https://localhost:8080/"
        },
        "id": "pMqRjlQOpTFd",
        "outputId": "0b6c0fc0-e021-4afc-e0d2-e0b7b6fb0101"
      },
      "execution_count": null,
      "outputs": [
        {
          "output_type": "stream",
          "name": "stdout",
          "text": [
            "(1355, 29) (1355, 1)\n"
          ]
        }
      ]
    },
    {
      "cell_type": "code",
      "source": [
        "train_x ,  test_x , train_y , test_y = train_test_split(data_x,data_y ,train_size = 0.7, shuffle= True)"
      ],
      "metadata": {
        "id": "nl4DEjElpVV2"
      },
      "execution_count": null,
      "outputs": []
    },
    {
      "cell_type": "code",
      "source": [
        "test_1 = test_y\n",
        "print(train_x.shape,train_y.shape,test_x.shape,test_y.shape)\n",
        "train_y = to_categorical(train_y)\n",
        "test_y = to_categorical(test_y)\n",
        "print(train_x.shape,train_y.shape,test_x.shape,test_y.shape)"
      ],
      "metadata": {
        "colab": {
          "base_uri": "https://localhost:8080/"
        },
        "id": "QEaT8WEyqokv",
        "outputId": "fa2699aa-e514-49c0-985a-a1d8a29bbd1f"
      },
      "execution_count": null,
      "outputs": [
        {
          "output_type": "stream",
          "name": "stdout",
          "text": [
            "(948, 29) (948, 1) (407, 29) (407, 1)\n",
            "(948, 29) (948, 4) (407, 29) (407, 4)\n"
          ]
        }
      ]
    },
    {
      "cell_type": "code",
      "source": [
        "train_y = train_y[:,1:]\n",
        "test_y = test_y[:,1:]"
      ],
      "metadata": {
        "id": "AdC6sW3o1wts"
      },
      "execution_count": null,
      "outputs": []
    },
    {
      "cell_type": "code",
      "source": [
        "# train_x =  torch.from_numpy(train_x).float()\n",
        "# test_x =  torch.from_numpy(test_x).float()\n",
        "# train_y =  torch.from_numpy(train_y).float()\n",
        "# test_y =  torch.from_numpy(test_y).float()"
      ],
      "metadata": {
        "id": "xqg8QVawr7M9"
      },
      "execution_count": null,
      "outputs": []
    },
    {
      "cell_type": "code",
      "source": [
        "model=Sequential()\n",
        "\n",
        "model.add(Dense(512, activation='relu',input_shape=[29,]))\n",
        "model.add(Dense(512, activation='relu',input_shape=[512,]))\n",
        "model.add(Dense(512, activation='relu',input_shape=[512,]))\n",
        "model.add(Dense(3, activation='softmax'))\n",
        "\n",
        "model.compile(optimizer='adam',loss='categorical_crossentropy',metrics=['accuracy'])"
      ],
      "metadata": {
        "id": "JLmbWrR7q4jw"
      },
      "execution_count": null,
      "outputs": []
    },
    {
      "cell_type": "code",
      "source": [
        "# model = NeuralNetwork()\n",
        "# num_epochs = 20\n",
        "# loss_function = nn.BCELoss()\n",
        "# learning_rate = 0.001\n",
        "# optimizer = optim.Adam(model.parameters(), lr=learning_rate)\n",
        "model.fit(x=train_x,y = train_y,validation_data=(test_x,test_y),epochs=50)"
      ],
      "metadata": {
        "colab": {
          "base_uri": "https://localhost:8080/"
        },
        "id": "vLNZNlJKssie",
        "outputId": "9b2290e0-21cd-4898-ca1e-0057ea3fb9d7"
      },
      "execution_count": null,
      "outputs": [
        {
          "output_type": "stream",
          "name": "stdout",
          "text": [
            "Epoch 1/50\n",
            "30/30 [==============================] - 2s 55ms/step - loss: 4.0634 - accuracy: 0.5812 - val_loss: 0.7230 - val_accuracy: 0.7027\n",
            "Epoch 2/50\n",
            "30/30 [==============================] - 0s 12ms/step - loss: 0.7177 - accuracy: 0.7141 - val_loss: 0.7305 - val_accuracy: 0.6265\n",
            "Epoch 3/50\n",
            "30/30 [==============================] - 0s 11ms/step - loss: 0.7234 - accuracy: 0.7089 - val_loss: 0.7121 - val_accuracy: 0.7002\n",
            "Epoch 4/50\n",
            "30/30 [==============================] - 0s 10ms/step - loss: 0.7038 - accuracy: 0.7205 - val_loss: 0.6667 - val_accuracy: 0.7494\n",
            "Epoch 5/50\n",
            "30/30 [==============================] - 0s 11ms/step - loss: 0.6681 - accuracy: 0.7500 - val_loss: 0.5677 - val_accuracy: 0.7518\n",
            "Epoch 6/50\n",
            "30/30 [==============================] - 0s 10ms/step - loss: 0.6122 - accuracy: 0.7595 - val_loss: 0.6543 - val_accuracy: 0.7445\n",
            "Epoch 7/50\n",
            "30/30 [==============================] - 0s 12ms/step - loss: 0.5924 - accuracy: 0.7679 - val_loss: 0.5856 - val_accuracy: 0.8010\n",
            "Epoch 8/50\n",
            "30/30 [==============================] - 0s 11ms/step - loss: 0.5936 - accuracy: 0.7627 - val_loss: 0.5290 - val_accuracy: 0.7789\n",
            "Epoch 9/50\n",
            "30/30 [==============================] - 0s 11ms/step - loss: 0.5708 - accuracy: 0.7827 - val_loss: 0.5238 - val_accuracy: 0.7936\n",
            "Epoch 10/50\n",
            "30/30 [==============================] - 0s 10ms/step - loss: 0.5407 - accuracy: 0.7890 - val_loss: 0.5056 - val_accuracy: 0.8084\n",
            "Epoch 11/50\n",
            "30/30 [==============================] - 0s 11ms/step - loss: 0.5214 - accuracy: 0.8080 - val_loss: 0.5082 - val_accuracy: 0.7912\n",
            "Epoch 12/50\n",
            "30/30 [==============================] - 0s 10ms/step - loss: 0.4914 - accuracy: 0.8091 - val_loss: 0.5202 - val_accuracy: 0.7813\n",
            "Epoch 13/50\n",
            "30/30 [==============================] - 0s 12ms/step - loss: 0.5164 - accuracy: 0.7975 - val_loss: 0.4751 - val_accuracy: 0.8084\n",
            "Epoch 14/50\n",
            "30/30 [==============================] - 0s 12ms/step - loss: 0.4711 - accuracy: 0.8133 - val_loss: 0.4699 - val_accuracy: 0.8010\n",
            "Epoch 15/50\n",
            "30/30 [==============================] - 0s 10ms/step - loss: 0.4709 - accuracy: 0.8091 - val_loss: 0.4836 - val_accuracy: 0.8157\n",
            "Epoch 16/50\n",
            "30/30 [==============================] - 0s 11ms/step - loss: 0.4573 - accuracy: 0.8249 - val_loss: 0.4678 - val_accuracy: 0.8084\n",
            "Epoch 17/50\n",
            "30/30 [==============================] - 0s 12ms/step - loss: 0.4124 - accuracy: 0.8312 - val_loss: 0.3807 - val_accuracy: 0.8550\n",
            "Epoch 18/50\n",
            "30/30 [==============================] - 0s 10ms/step - loss: 0.3909 - accuracy: 0.8312 - val_loss: 0.3783 - val_accuracy: 0.8280\n",
            "Epoch 19/50\n",
            "30/30 [==============================] - 0s 11ms/step - loss: 0.4224 - accuracy: 0.8386 - val_loss: 0.4791 - val_accuracy: 0.7887\n",
            "Epoch 20/50\n",
            "30/30 [==============================] - 0s 12ms/step - loss: 0.3973 - accuracy: 0.8312 - val_loss: 0.4730 - val_accuracy: 0.8059\n",
            "Epoch 21/50\n",
            "30/30 [==============================] - 0s 11ms/step - loss: 0.3708 - accuracy: 0.8502 - val_loss: 0.5457 - val_accuracy: 0.7961\n",
            "Epoch 22/50\n",
            "30/30 [==============================] - 0s 10ms/step - loss: 0.4498 - accuracy: 0.8217 - val_loss: 0.4191 - val_accuracy: 0.8256\n",
            "Epoch 23/50\n",
            "30/30 [==============================] - 0s 12ms/step - loss: 0.3402 - accuracy: 0.8660 - val_loss: 0.4293 - val_accuracy: 0.8231\n",
            "Epoch 24/50\n",
            "30/30 [==============================] - 0s 10ms/step - loss: 0.3023 - accuracy: 0.8787 - val_loss: 0.3974 - val_accuracy: 0.8280\n",
            "Epoch 25/50\n",
            "30/30 [==============================] - 0s 10ms/step - loss: 0.3422 - accuracy: 0.8449 - val_loss: 0.3978 - val_accuracy: 0.8403\n",
            "Epoch 26/50\n",
            "30/30 [==============================] - 0s 11ms/step - loss: 0.2997 - accuracy: 0.8840 - val_loss: 0.3987 - val_accuracy: 0.8575\n",
            "Epoch 27/50\n",
            "30/30 [==============================] - 0s 12ms/step - loss: 0.2699 - accuracy: 0.9040 - val_loss: 0.4467 - val_accuracy: 0.8256\n",
            "Epoch 28/50\n",
            "30/30 [==============================] - 0s 10ms/step - loss: 0.3225 - accuracy: 0.8766 - val_loss: 0.3300 - val_accuracy: 0.8722\n",
            "Epoch 29/50\n",
            "30/30 [==============================] - 0s 11ms/step - loss: 0.2477 - accuracy: 0.8977 - val_loss: 0.4186 - val_accuracy: 0.8501\n",
            "Epoch 30/50\n",
            "30/30 [==============================] - 0s 10ms/step - loss: 0.2606 - accuracy: 0.8977 - val_loss: 0.5197 - val_accuracy: 0.8403\n",
            "Epoch 31/50\n",
            "30/30 [==============================] - 0s 11ms/step - loss: 0.2780 - accuracy: 0.8945 - val_loss: 0.3956 - val_accuracy: 0.8526\n",
            "Epoch 32/50\n",
            "30/30 [==============================] - 0s 11ms/step - loss: 0.2236 - accuracy: 0.9135 - val_loss: 0.3955 - val_accuracy: 0.8673\n",
            "Epoch 33/50\n",
            "30/30 [==============================] - 0s 11ms/step - loss: 0.2729 - accuracy: 0.8945 - val_loss: 0.3745 - val_accuracy: 0.8600\n",
            "Epoch 34/50\n",
            "30/30 [==============================] - 0s 11ms/step - loss: 0.2573 - accuracy: 0.9072 - val_loss: 0.5188 - val_accuracy: 0.8452\n",
            "Epoch 35/50\n",
            "30/30 [==============================] - 0s 11ms/step - loss: 0.2845 - accuracy: 0.8924 - val_loss: 0.4160 - val_accuracy: 0.8501\n",
            "Epoch 36/50\n",
            "30/30 [==============================] - 0s 12ms/step - loss: 0.2281 - accuracy: 0.9093 - val_loss: 0.4106 - val_accuracy: 0.8477\n",
            "Epoch 37/50\n",
            "30/30 [==============================] - 0s 12ms/step - loss: 0.1752 - accuracy: 0.9293 - val_loss: 0.3269 - val_accuracy: 0.8722\n",
            "Epoch 38/50\n",
            "30/30 [==============================] - 0s 12ms/step - loss: 0.1418 - accuracy: 0.9578 - val_loss: 0.3085 - val_accuracy: 0.8747\n",
            "Epoch 39/50\n",
            "30/30 [==============================] - 0s 10ms/step - loss: 0.1648 - accuracy: 0.9388 - val_loss: 0.3910 - val_accuracy: 0.8354\n",
            "Epoch 40/50\n",
            "30/30 [==============================] - 0s 11ms/step - loss: 0.2382 - accuracy: 0.8998 - val_loss: 0.4323 - val_accuracy: 0.8378\n",
            "Epoch 41/50\n",
            "30/30 [==============================] - 0s 11ms/step - loss: 0.2277 - accuracy: 0.9040 - val_loss: 0.3019 - val_accuracy: 0.8722\n",
            "Epoch 42/50\n",
            "30/30 [==============================] - 1s 46ms/step - loss: 0.1906 - accuracy: 0.9388 - val_loss: 0.4688 - val_accuracy: 0.8526\n",
            "Epoch 43/50\n",
            "30/30 [==============================] - 0s 12ms/step - loss: 0.2436 - accuracy: 0.8935 - val_loss: 0.3936 - val_accuracy: 0.8600\n",
            "Epoch 44/50\n",
            "30/30 [==============================] - 0s 11ms/step - loss: 0.1535 - accuracy: 0.9430 - val_loss: 0.3077 - val_accuracy: 0.8722\n",
            "Epoch 45/50\n",
            "30/30 [==============================] - 0s 11ms/step - loss: 0.1461 - accuracy: 0.9451 - val_loss: 0.4371 - val_accuracy: 0.8231\n",
            "Epoch 46/50\n",
            "30/30 [==============================] - 0s 12ms/step - loss: 0.1733 - accuracy: 0.9335 - val_loss: 0.3569 - val_accuracy: 0.8649\n",
            "Epoch 47/50\n",
            "30/30 [==============================] - 0s 11ms/step - loss: 0.1540 - accuracy: 0.9378 - val_loss: 0.4128 - val_accuracy: 0.8501\n",
            "Epoch 48/50\n",
            "30/30 [==============================] - 0s 12ms/step - loss: 0.2605 - accuracy: 0.9093 - val_loss: 0.3748 - val_accuracy: 0.8403\n",
            "Epoch 49/50\n",
            "30/30 [==============================] - 0s 11ms/step - loss: 0.2173 - accuracy: 0.9167 - val_loss: 0.4624 - val_accuracy: 0.8501\n",
            "Epoch 50/50\n",
            "30/30 [==============================] - 0s 12ms/step - loss: 0.1872 - accuracy: 0.9230 - val_loss: 0.3671 - val_accuracy: 0.8550\n"
          ]
        },
        {
          "output_type": "execute_result",
          "data": {
            "text/plain": [
              "<keras.callbacks.History at 0x7f3746a794d0>"
            ]
          },
          "metadata": {},
          "execution_count": 229
        }
      ]
    },
    {
      "cell_type": "code",
      "source": [
        "loss_df=pd.DataFrame(model.history.history)\n",
        "loss_df.plot(figsize=(14,8))"
      ],
      "metadata": {
        "colab": {
          "base_uri": "https://localhost:8080/",
          "height": 500
        },
        "id": "ScVOIOxX5buU",
        "outputId": "8d222975-28a1-4277-b0a1-a8e3b2d35366"
      },
      "execution_count": null,
      "outputs": [
        {
          "output_type": "execute_result",
          "data": {
            "text/plain": [
              "<matplotlib.axes._subplots.AxesSubplot at 0x7f374691ea50>"
            ]
          },
          "metadata": {},
          "execution_count": 230
        },
        {
          "output_type": "display_data",
          "data": {
            "text/plain": [
              "<Figure size 1008x576 with 1 Axes>"
            ],
            "image/png": "[encoded data removed]"
          },
          "metadata": {
            "needs_background": "light"
          }
        }
      ]
    },
    {
      "cell_type": "code",
      "source": [
        "predictions=np.argmax(model.predict(test_x), axis=-1)\n",
        "# predictions = model.predict_proba(test_x)\n",
        "predictions"
      ],
      "metadata": {
        "colab": {
          "base_uri": "https://localhost:8080/"
        },
        "id": "lPgYkraA3BfN",
        "outputId": "dd6703cf-c90f-4dc0-fc69-3b18fc02a64c"
      },
      "execution_count": null,
      "outputs": [
        {
          "output_type": "execute_result",
          "data": {
            "text/plain": [
              "array([0, 2, 2, 2, 0, 2, 2, 2, 1, 2, 1, 2, 2, 0, 1, 1, 0, 2, 1, 2, 1, 0,\n",
              "       1, 1, 2, 2, 2, 2, 0, 2, 2, 2, 1, 1, 1, 2, 0, 2, 1, 0, 2, 2, 1, 2,\n",
              "       2, 2, 2, 2, 2, 2, 1, 1, 2, 2, 2, 0, 1, 2, 2, 2, 1, 0, 2, 1, 2, 0,\n",
              "       2, 1, 2, 1, 2, 2, 0, 0, 2, 2, 1, 1, 0, 2, 2, 2, 2, 2, 2, 2, 2, 0,\n",
              "       2, 0, 1, 2, 2, 1, 2, 2, 1, 2, 2, 1, 1, 2, 2, 2, 2, 2, 2, 2, 2, 2,\n",
              "       2, 2, 1, 2, 2, 2, 1, 2, 2, 1, 2, 1, 2, 2, 2, 2, 2, 2, 1, 2, 2, 2,\n",
              "       0, 0, 1, 1, 2, 1, 1, 2, 0, 2, 2, 1, 1, 2, 0, 2, 1, 1, 2, 2, 1, 2,\n",
              "       2, 1, 0, 1, 0, 2, 2, 1, 1, 2, 1, 2, 2, 1, 2, 2, 1, 2, 1, 2, 2, 2,\n",
              "       2, 2, 1, 2, 2, 2, 1, 2, 2, 1, 2, 2, 2, 2, 1, 2, 2, 2, 2, 2, 0, 1,\n",
              "       2, 2, 1, 2, 0, 2, 0, 2, 1, 2, 2, 1, 1, 2, 2, 2, 2, 0, 2, 2, 1, 1,\n",
              "       1, 2, 2, 1, 2, 2, 2, 1, 2, 2, 0, 2, 0, 2, 1, 1, 2, 2, 2, 2, 2, 2,\n",
              "       0, 2, 2, 2, 0, 2, 1, 2, 2, 1, 2, 2, 2, 2, 1, 1, 2, 1, 2, 2, 0, 2,\n",
              "       0, 1, 1, 1, 2, 0, 2, 2, 2, 0, 2, 1, 1, 2, 2, 1, 2, 2, 2, 2, 1, 1,\n",
              "       2, 1, 2, 0, 2, 2, 2, 1, 2, 2, 0, 0, 2, 2, 1, 2, 2, 0, 2, 2, 2, 2,\n",
              "       1, 2, 0, 2, 0, 1, 1, 2, 0, 0, 1, 2, 0, 0, 2, 1, 1, 1, 2, 2, 1, 1,\n",
              "       2, 1, 2, 2, 1, 1, 2, 2, 2, 2, 1, 1, 2, 1, 2, 2, 1, 2, 1, 0, 1, 2,\n",
              "       2, 2, 2, 2, 2, 2, 2, 0, 1, 1, 2, 1, 2, 2, 0, 1, 2, 1, 0, 2, 2, 2,\n",
              "       2, 2, 0, 0, 1, 2, 2, 0, 0, 2, 2, 1, 1, 2, 1, 1, 1, 1, 0, 2, 1, 1,\n",
              "       2, 2, 1, 2, 2, 0, 1, 1, 2, 2, 0])"
            ]
          },
          "metadata": {},
          "execution_count": 204
        }
      ]
    },
    {
      "cell_type": "code",
      "source": [
        "model.evaluate(test_x,test_y,verbose=0)"
      ],
      "metadata": {
        "colab": {
          "base_uri": "https://localhost:8080/"
        },
        "id": "YcX1W9p54FTk",
        "outputId": "df718dba-c1d1-4342-fdec-5e07123ecc1f"
      },
      "execution_count": null,
      "outputs": [
        {
          "output_type": "execute_result",
          "data": {
            "text/plain": [
              "[0.6398451924324036, 0.828009843826294]"
            ]
          },
          "metadata": {},
          "execution_count": 205
        }
      ]
    },
    {
      "cell_type": "code",
      "source": [
        "cm_rbf = confusion_matrix(test_1, predictions)\n",
        "disp_rbf = ConfusionMatrixDisplay(cm_rbf)\n",
        "disp_rbf.plot()\n",
        "plt.show()"
      ],
      "metadata": {
        "colab": {
          "base_uri": "https://localhost:8080/",
          "height": 279
        },
        "id": "USoboK6XuDaM",
        "outputId": "6c758a30-b90d-449b-b0cf-d530a64801c4"
      },
      "execution_count": null,
      "outputs": [
        {
          "output_type": "display_data",
          "data": {
            "text/plain": [
              "<Figure size 432x288 with 2 Axes>"
            ],
            "image/png": "[encoded data removed]"
          },
          "metadata": {
            "needs_background": "light"
          }
        }
      ]
    },
    {
      "cell_type": "code",
      "source": [
        "def perf_measure(y_actual, y_pred):\n",
        "    TP = 0\n",
        "    FP = 0\n",
        "    TN = 0\n",
        "    FN = 0\n",
        "\n",
        "    for i in range(len(y_pred)): \n",
        "        if y_actual[i]==y_pred[i]==1:\n",
        "           TP += 1\n",
        "        if y_pred[i]==1 and y_actual[i]!=y_pred[i]:\n",
        "           FP += 1\n",
        "        if y_actual[i]==y_pred[i]==0:\n",
        "           TN += 1\n",
        "        if y_pred[i]==0 and y_actual[i]!=y_pred[i]:\n",
        "           FN += 1\n",
        "\n",
        "    return(TP, FP, TN, FN)"
      ],
      "metadata": {
        "id": "QdW9ZdZw8NEb"
      },
      "execution_count": null,
      "outputs": []
    },
    {
      "cell_type": "code",
      "source": [
        "perf_measure(test_1,predictions)"
      ],
      "metadata": {
        "colab": {
          "base_uri": "https://localhost:8080/"
        },
        "id": "nSPsiTEN8XVa",
        "outputId": "7830e169-aab9-449c-8289-afa384184dbc"
      },
      "execution_count": null,
      "outputs": [
        {
          "output_type": "execute_result",
          "data": {
            "text/plain": [
              "(5, 111, 0, 55)"
            ]
          },
          "metadata": {},
          "execution_count": 215
        }
      ]
    },
    {
      "cell_type": "code",
      "source": [
        "specificity  =  5 / (5 + 55)\n",
        "specificity  = specificity*10"
      ],
      "metadata": {
        "colab": {
          "base_uri": "https://localhost:8080/"
        },
        "id": "ui14CQjw9SgT",
        "outputId": "391e7e66-383a-444c-a745-5a4ef0db333b"
      },
      "execution_count": null,
      "outputs": [
        {
          "output_type": "execute_result",
          "data": {
            "text/plain": [
              "0.8333333333333333"
            ]
          },
          "metadata": {},
          "execution_count": 231
        }
      ]
    },
    {
      "cell_type": "code",
      "source": [
        "sensitivity = 6 / 111\n",
        "sensitivity = sensitivity*10"
      ],
      "metadata": {
        "colab": {
          "base_uri": "https://localhost:8080/"
        },
        "id": "23J0yLk59hQq",
        "outputId": "05940ddf-2655-40b7-fab9-e045d45d3463"
      },
      "execution_count": null,
      "outputs": [
        {
          "output_type": "execute_result",
          "data": {
            "text/plain": [
              "0.5405405405405406"
            ]
          },
          "metadata": {},
          "execution_count": 232
        }
      ]
    },
    {
      "cell_type": "code",
      "source": [],
      "metadata": {
        "id": "ccg3Lk5nBXk5"
      },
      "execution_count": null,
      "outputs": []
    }
  ]
}